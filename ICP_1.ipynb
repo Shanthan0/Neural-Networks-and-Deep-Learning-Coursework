{
  "nbformat": 4,
  "nbformat_minor": 0,
  "metadata": {
    "colab": {
      "provenance": [],
      "authorship_tag": "ABX9TyNtCCZKGAMzDFeF4BmDfvWf",
      "include_colab_link": true
    },
    "kernelspec": {
      "name": "python3",
      "display_name": "Python 3"
    },
    "language_info": {
      "name": "python"
    }
  },
  "cells": [
    {
      "cell_type": "markdown",
      "metadata": {
        "id": "view-in-github",
        "colab_type": "text"
      },
      "source": [
        "<a href=\"https://colab.research.google.com/github/Shanthan0/Neural-Networks-and-Deep-Learning-Coursework/blob/main/ICP_1.ipynb\" target=\"_parent\"><img src=\"https://colab.research.google.com/assets/colab-badge.svg\" alt=\"Open In Colab\"/></a>"
      ]
    },
    {
      "cell_type": "markdown",
      "source": [],
      "metadata": {
        "id": "3fNrnXe0QfpY"
      }
    },
    {
      "cell_type": "markdown",
      "source": [],
      "metadata": {
        "id": "u5vLM3FsQg6X"
      }
    },
    {
      "cell_type": "code",
      "execution_count": 22,
      "metadata": {
        "colab": {
          "base_uri": "https://localhost:8080/"
        },
        "id": "qTzqpHGCIGHg",
        "outputId": "fba4e9b1-7789-4373-80bf-ea1c1e89a4db"
      },
      "outputs": [
        {
          "output_type": "stream",
          "name": "stdout",
          "text": [
            "Enter your first name: Sree Shanthan\n",
            "Enter your last name: Kuthuru\n",
            "Full Name: Sree Shanthan Kuthuru\n",
            "Alternative String: Se hnhnKtuu\n"
          ]
        }
      ],
      "source": [
        "def fullname(first_name, last_name):\n",
        "  return first_name + \" \" + last_name\n",
        "\n",
        "def string_alternative(string):\n",
        "  return string[::2]\n",
        "\n",
        "def main():\n",
        "  first_name = input(\"Enter your first name: \")\n",
        "  last_name = input(\"Enter your last name: \")\n",
        "\n",
        "  full_name = fullname(first_name, last_name)\n",
        "  print(\"Full Name:\", full_name)\n",
        "\n",
        "  alternative_string = string_alternative(full_name)\n",
        "  print(\"Alternative String:\", alternative_string)\n",
        "\n",
        "if __name__ == \"__main__\":\n",
        "  main()"
      ]
    },
    {
      "cell_type": "code",
      "source": [
        "\n",
        "def count_words_in_file(filename):\n",
        "  word_counts = {}\n",
        "  with open(filename, 'r') as file:\n",
        "    for line in file:\n",
        "      print(line)\n",
        "      words = line.strip().split()\n",
        "      for word in words:\n",
        "        word_counts[word] = word_counts.get(word, 0) + 1\n",
        "  return word_counts\n",
        "\n",
        "def print_word_counts(word_counts, output_filename):\n",
        "  print(\"Word Counts:\\n\")\n",
        "  with open(output_filename, 'w') as output_file:\n",
        "    for word, count in word_counts.items():\n",
        "      print(f\"{word}: {count}\")\n",
        "      output_file.write(f\"{word}: {count}\\n\")\n",
        "\n",
        "if __name__ == \"__main__\":\n",
        "  input_filename = \"/input.txt\"\n",
        "  output_filename = \"/output.txt\"\n",
        "\n",
        "  word_counts = count_words_in_file(input_filename)\n",
        "  print_word_counts(word_counts, output_filename)"
      ],
      "metadata": {
        "colab": {
          "base_uri": "https://localhost:8080/"
        },
        "id": "D2Eal7KhJSw4",
        "outputId": "186ec95c-1eb2-4fd8-d5c8-f196a46ae6e6"
      },
      "execution_count": 23,
      "outputs": [
        {
          "output_type": "stream",
          "name": "stdout",
          "text": [
            "Python Course\n",
            "\n",
            "Deep Learning Course\n",
            "\n",
            "Word Counts:\n",
            "\n",
            "Python: 1\n",
            "Course: 2\n",
            "Deep: 1\n",
            "Learning: 1\n"
          ]
        }
      ]
    },
    {
      "cell_type": "code",
      "source": [
        "def convert_in_to_cm_nested(heights_inches):\n",
        "  heights_cm = []\n",
        "  for height in heights_inches:\n",
        "    cm = height * 2.54\n",
        "    heights_cm.append(cm)\n",
        "  return heights_cm\n",
        "\n",
        "\n",
        "def convert_in_to_cm_list_comprehension(heights_inches):\n",
        "  return [height * 2.54 for height in heights_inches]\n",
        "\n",
        "\n",
        "if __name__ == \"__main__\":\n",
        "  heights_in = [float(x) for x in input().split()]\n",
        "  heights_cm = convert_in_to_cm_nested(heights_in)\n",
        "  print(heights_cm)\n",
        "  heights_cm = convert_in_to_cm_list_comprehension(heights_in)\n",
        "  print(heights_cm)"
      ],
      "metadata": {
        "colab": {
          "base_uri": "https://localhost:8080/"
        },
        "id": "yKyvsHKjKfey",
        "outputId": "05caf97c-5c50-4c8b-db4a-c2f0c89290e3"
      },
      "execution_count": 24,
      "outputs": [
        {
          "output_type": "stream",
          "name": "stdout",
          "text": [
            "150 155 145 148\n",
            "[381.0, 393.7, 368.3, 375.92]\n",
            "[381.0, 393.7, 368.3, 375.92]\n"
          ]
        }
      ]
    },
    {
      "cell_type": "code",
      "source": [],
      "metadata": {
        "id": "LCkXEUVwKnhr"
      },
      "execution_count": null,
      "outputs": []
    }
  ]
}