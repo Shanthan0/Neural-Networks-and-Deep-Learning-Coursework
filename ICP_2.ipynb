{
  "nbformat": 4,
  "nbformat_minor": 0,
  "metadata": {
    "colab": {
      "provenance": [],
      "authorship_tag": "ABX9TyMJdmH/hKC+rtmOHsZjvFJq",
      "include_colab_link": true
    },
    "kernelspec": {
      "name": "python3",
      "display_name": "Python 3"
    },
    "language_info": {
      "name": "python"
    }
  },
  "cells": [
    {
      "cell_type": "markdown",
      "metadata": {
        "id": "view-in-github",
        "colab_type": "text"
      },
      "source": [
        "<a href=\"https://colab.research.google.com/github/Shanthan0/Neural-Networks-and-Deep-Learning-Coursework/blob/main/ICP_2.ipynb\" target=\"_parent\"><img src=\"https://colab.research.google.com/assets/colab-badge.svg\" alt=\"Open In Colab\"/></a>"
      ]
    },
    {
      "cell_type": "markdown",
      "source": [
        "1. Create a class Employee and then do the following\n",
        "\n",
        "*   Create a data member to count the number of Employees\n",
        "*   Create a constructor to initialize name, family, salary, department\n",
        "*   Create a function to average salary\n",
        "*   Create a Fulltime Employee class and it should inherit the properties of\n",
        "    Employee class\n",
        "\n",
        "2. Create a Fulltime Employee class and it should inherit the properties of Employee class"
      ],
      "metadata": {
        "id": "Sn10Z_7AQU6z"
      }
    },
    {
      "cell_type": "markdown",
      "source": [],
      "metadata": {
        "id": "7mri5XgJQTcj"
      }
    },
    {
      "cell_type": "code",
      "execution_count": 15,
      "metadata": {
        "colab": {
          "base_uri": "https://localhost:8080/"
        },
        "id": "5bwqCAZXFXKB",
        "outputId": "23f89b68-117c-4a8b-d6f1-f3062bd7f227"
      },
      "outputs": [
        {
          "output_type": "stream",
          "name": "stdout",
          "text": [
            "Sree Kuthuru\n",
            "Kargill Kane\n",
            "2\n",
            "57500.0\n"
          ]
        }
      ],
      "source": [
        "class Employee:\n",
        "\n",
        "    count = 0\n",
        "\n",
        "    def __init__(self, name, family, salary, department):\n",
        "\n",
        "        self.name = name\n",
        "        self.family = family\n",
        "        self.salary = salary\n",
        "        self.department = department\n",
        "        Employee.count += 1\n",
        "\n",
        "    def get_full_name(self):\n",
        "        return f\"{self.name} {self.family}\"\n",
        "\n",
        "    def average_salary(employees):\n",
        "        if not employees:\n",
        "            return 0\n",
        "\n",
        "        total_salary = sum(emp.salary for emp in employees)\n",
        "        return total_salary / len(employees)\n",
        "\n",
        "class FullTimeEmployee(Employee):\n",
        "    def __init__(self, name, family, salary, department):\n",
        "        super().__init__(name, family, salary, department)\n",
        "\n",
        "\n",
        "emp1 = Employee(\"Sree\", \"Kuthuru\", 50000, \"Data\")\n",
        "emp2 = FullTimeEmployee(\"Kargill\", \"Kane\", 65000, \"DevOps\")\n",
        "\n",
        "print(emp1.get_full_name())\n",
        "print(emp2.get_full_name())\n",
        "print(Employee.count)\n",
        "print(Employee.average_salary([emp1, emp2]))\n"
      ]
    },
    {
      "cell_type": "markdown",
      "source": [
        "Using NumPy create random vector of size 20 having only float in the range 1-20.\n",
        "\n",
        "*   Then reshape the array to 4 by 5\n",
        "*   Then replace the max in each row by 0 (axis=1)"
      ],
      "metadata": {
        "id": "0BidzSkfQrGn"
      }
    },
    {
      "cell_type": "code",
      "source": [
        "import numpy as np\n",
        "\n",
        "vector = np.random.uniform(low=1, high=20, size=20)\n",
        "print('Original Vector:\\n',vector)\n",
        "reshaped_vector = vector.reshape(4, 5)\n",
        "print(\"Reshaped Vector:\\n\", reshaped_vector)\n",
        "reshaped_vector[np.arange(reshaped_vector.shape[0]), reshaped_vector.argmax(axis=1)] = 0\n",
        "print(\"Updated Vector:\\n\", reshaped_vector)\n"
      ],
      "metadata": {
        "colab": {
          "base_uri": "https://localhost:8080/"
        },
        "id": "_rOlgY6vHEA8",
        "outputId": "3080a116-fbc4-409c-ac56-2c1b797fc3ed"
      },
      "execution_count": 11,
      "outputs": [
        {
          "output_type": "stream",
          "name": "stdout",
          "text": [
            "Original Vector:\n",
            " [ 6.01917511 11.77514003  8.81033408  5.16445298 16.91918412 15.44626079\n",
            " 11.56342674 10.88847749 10.71264868 12.14344594 19.09676928  5.17869182\n",
            "  4.51452191 12.8031804  12.27019776 18.46375142 13.53967468 19.80417844\n",
            " 11.9261086  10.33819861]\n",
            "Reshaped Vector:\n",
            " [[ 6.01917511 11.77514003  8.81033408  5.16445298 16.91918412]\n",
            " [15.44626079 11.56342674 10.88847749 10.71264868 12.14344594]\n",
            " [19.09676928  5.17869182  4.51452191 12.8031804  12.27019776]\n",
            " [18.46375142 13.53967468 19.80417844 11.9261086  10.33819861]]\n",
            "Updated Vector:\n",
            " [[ 6.01917511 11.77514003  8.81033408  5.16445298  0.        ]\n",
            " [ 0.         11.56342674 10.88847749 10.71264868 12.14344594]\n",
            " [ 0.          5.17869182  4.51452191 12.8031804  12.27019776]\n",
            " [18.46375142 13.53967468  0.         11.9261086  10.33819861]]\n"
          ]
        }
      ]
    },
    {
      "cell_type": "code",
      "source": [],
      "metadata": {
        "id": "ktxwVJcVLVMx"
      },
      "execution_count": null,
      "outputs": []
    }
  ]
}